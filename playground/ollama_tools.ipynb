{
 "cells": [
  {
   "cell_type": "code",
   "id": "initial_id",
   "metadata": {
    "collapsed": true,
    "ExecuteTime": {
     "end_time": "2024-08-20T19:57:36.193408Z",
     "start_time": "2024-08-20T19:57:36.189010Z"
    }
   },
   "source": [
    "import json\n",
    "import ollama\n",
    "import asyncio\n",
    "import nest_asyncio\n",
    "\n",
    "nest_asyncio.apply()\n",
    "\n",
    "# Simulates an API call to get flight times\n",
    "# In a real application, this would fetch data from a live database or API\n",
    "def get_flight_times(departure: str, arrival: str) -> str:\n",
    "    flights = {\n",
    "        'NYC-LAX': {'departure': '08:00 AM', 'arrival': '11:30 AM', 'duration': '5h 30m'},\n",
    "        'LAX-NYC': {'departure': '02:00 PM', 'arrival': '10:30 PM', 'duration': '5h 30m'},\n",
    "        'LHR-JFK': {'departure': '10:00 AM', 'arrival': '01:00 PM', 'duration': '8h 00m'},\n",
    "        'JFK-LHR': {'departure': '09:00 PM', 'arrival': '09:00 AM', 'duration': '7h 00m'},\n",
    "        'CDG-DXB': {'departure': '11:00 AM', 'arrival': '08:00 PM', 'duration': '6h 00m'},\n",
    "        'DXB-CDG': {'departure': '03:00 AM', 'arrival': '07:30 AM', 'duration': '7h 30m'},\n",
    "    }\n",
    "\n",
    "    key = f'{departure}-{arrival}'.upper()\n",
    "    return json.dumps(flights.get(key, {'error': 'Flight not found'}))\n",
    "\n"
   ],
   "outputs": [],
   "execution_count": 4
  },
  {
   "metadata": {
    "ExecuteTime": {
     "end_time": "2024-08-20T19:58:09.574096Z",
     "start_time": "2024-08-20T19:58:09.569915Z"
    }
   },
   "cell_type": "code",
   "source": [
    "async def run(model: str):\n",
    "    client = ollama.AsyncClient()\n",
    "    # Initialize conversation with a user query\n",
    "    messages = [{'role': 'user', 'content': 'What is the flight time from New York (NYC) to Los Angeles (LAX)?'}]\n",
    "\n",
    "    # First API call: Send the query and function description to the model\n",
    "    response = await client.chat(\n",
    "        model=model,\n",
    "        messages=messages,\n",
    "        tools=[\n",
    "            {\n",
    "                'type': 'function',\n",
    "                'function': {\n",
    "                    'name': 'get_flight_times',\n",
    "                    'description': 'Get the flight times between two cities',\n",
    "                    'parameters': {\n",
    "                        'type': 'object',\n",
    "                        'properties': {\n",
    "                            'departure': {\n",
    "                                'type': 'string',\n",
    "                                'description': 'The departure city (airport code)',\n",
    "                            },\n",
    "                            'arrival': {\n",
    "                                'type': 'string',\n",
    "                                'description': 'The arrival city (airport code)',\n",
    "                            },\n",
    "                        },\n",
    "                        'required': ['departure', 'arrival'],\n",
    "                    },\n",
    "                },\n",
    "            },\n",
    "        ],\n",
    "    )\n",
    "\n",
    "    # Add the model's response to the conversation history\n",
    "    messages.append(response['message'])\n",
    "\n",
    "    # Check if the model decided to use the provided function\n",
    "    if not response['message'].get('tool_calls'):\n",
    "        print(\"The model didn't use the function. Its response was:\")\n",
    "        print(response['message']['content'])\n",
    "        return\n",
    "\n",
    "    # Process function calls made by the model\n",
    "    if response['message'].get('tool_calls'):\n",
    "        available_functions = {\n",
    "            'get_flight_times': get_flight_times,\n",
    "        }\n",
    "        for tool in response['message']['tool_calls']:\n",
    "            function_to_call = available_functions[tool['function']['name']]\n",
    "            function_response = function_to_call(tool['function']['arguments']['departure'], tool['function']['arguments']['arrival'])\n",
    "            # Add function response to the conversation\n",
    "            messages.append(\n",
    "                {\n",
    "                    'role': 'tool',\n",
    "                    'content': function_response,\n",
    "                }\n",
    "            )\n",
    "\n",
    "    # Second API call: Get final response from the model\n",
    "    final_response = await client.chat(model=model, messages=messages)\n",
    "    print(final_response['message']['content'])\n"
   ],
   "id": "f9c046b0b853827a",
   "outputs": [],
   "execution_count": 5
  },
  {
   "metadata": {
    "ExecuteTime": {
     "end_time": "2024-08-20T20:01:35.008853Z",
     "start_time": "2024-08-20T20:01:26.223963Z"
    }
   },
   "cell_type": "code",
   "source": "await run('llama3.1:latest')",
   "id": "c08318fc58816964",
   "outputs": [
    {
     "name": "stdout",
     "output_type": "stream",
     "text": [
      "The flight time from New York (NYC) to Los Angeles (LAX) is approximately 5 hours and 30 minutes. However, please note that this may vary depending on the specific flight schedule and airline. It's always best to check with your airline or a flight search engine like Google Flights for the most up-to-date and accurate information.\n"
     ]
    }
   ],
   "execution_count": 8
  }
 ],
 "metadata": {
  "kernelspec": {
   "display_name": "Python 3",
   "language": "python",
   "name": "python3"
  },
  "language_info": {
   "codemirror_mode": {
    "name": "ipython",
    "version": 2
   },
   "file_extension": ".py",
   "mimetype": "text/x-python",
   "name": "python",
   "nbconvert_exporter": "python",
   "pygments_lexer": "ipython2",
   "version": "2.7.6"
  }
 },
 "nbformat": 4,
 "nbformat_minor": 5
}
