{
 "cells": [
  {
   "cell_type": "code",
   "id": "initial_id",
   "metadata": {
    "collapsed": true,
    "ExecuteTime": {
     "end_time": "2024-06-17T19:52:01.018368Z",
     "start_time": "2024-06-17T19:52:00.478137Z"
    }
   },
   "source": [
    "from openai import OpenAI\n",
    "from pydantic import BaseModel, Field\n",
    "from typing import List\n",
    "\n",
    "import instructor"
   ],
   "outputs": [],
   "execution_count": 1
  },
  {
   "metadata": {
    "ExecuteTime": {
     "end_time": "2024-06-17T19:52:01.024227Z",
     "start_time": "2024-06-17T19:52:01.020861Z"
    }
   },
   "cell_type": "code",
   "source": [
    "class Character(BaseModel):\n",
    "    name: str\n",
    "    age: int\n",
    "    fact: List[str] = Field(..., description=\"A list of facts about the character\")"
   ],
   "id": "9dec0553d8b6e1d3",
   "outputs": [],
   "execution_count": 2
  },
  {
   "metadata": {},
   "cell_type": "markdown",
   "source": "ollama pull command-r:latest",
   "id": "905aaa447fc98e94"
  },
  {
   "metadata": {
    "ExecuteTime": {
     "end_time": "2024-06-17T19:42:13.984163Z",
     "start_time": "2024-06-17T19:41:59.515193Z"
    }
   },
   "cell_type": "code",
   "source": [
    "# enables `response_model` in create call\n",
    "client = instructor.from_openai(\n",
    "    OpenAI(\n",
    "        base_url=\"http://localhost:11434/v1\",\n",
    "        api_key=\"ollama\",  # required, but unused\n",
    "    ),\n",
    "    mode=instructor.Mode.JSON,\n",
    ")\n",
    "\n",
    "resp = client.chat.completions.create(\n",
    "    model=\"command-r:latest\",\n",
    "    messages=[\n",
    "        {\n",
    "            \"role\": \"user\",\n",
    "            \"content\": \"Tell me about the Harry Potter\",\n",
    "        }\n",
    "    ],\n",
    "    response_model=Character,\n",
    ")"
   ],
   "id": "308abc57490df355",
   "outputs": [],
   "execution_count": 7
  },
  {
   "metadata": {
    "ExecuteTime": {
     "end_time": "2024-06-17T19:42:13.990914Z",
     "start_time": "2024-06-17T19:42:13.986314Z"
    }
   },
   "cell_type": "code",
   "source": "print(resp.model_dump_json(indent=2))",
   "id": "a5ffb1994141df5b",
   "outputs": [
    {
     "name": "stdout",
     "output_type": "stream",
     "text": [
      "{\n",
      "  \"name\": \"Harry James Potter\",\n",
      "  \"age\": 32,\n",
      "  \"fact\": [\n",
      "    \"Harry is a wizard and the primary protagonist of the series.\",\n",
      "    \"He initially lived in the cupboard under the stairs at his aunt and uncle's house.\",\n",
      "    \"At Hogwarts, he was sorted into Gryffindor House and developed many close friendships, including Ron Weasley and Hermione Granger.\",\n",
      "    \"Harry defeated Lord Voldemort, a powerful dark wizard responsible for the deaths of his parents.\",\n",
      "    \"He discovered that he is famous in the Wizarding World due to his survival of Voldemort's killing curse as an infant, earning him the nickname 'The Boy Who Lived.'\"\n",
      "  ]\n",
      "}\n"
     ]
    }
   ],
   "execution_count": 8
  }
 ],
 "metadata": {
  "kernelspec": {
   "display_name": "Python 3",
   "language": "python",
   "name": "python3"
  },
  "language_info": {
   "codemirror_mode": {
    "name": "ipython",
    "version": 2
   },
   "file_extension": ".py",
   "mimetype": "text/x-python",
   "name": "python",
   "nbconvert_exporter": "python",
   "pygments_lexer": "ipython2",
   "version": "2.7.6"
  }
 },
 "nbformat": 4,
 "nbformat_minor": 5
}
