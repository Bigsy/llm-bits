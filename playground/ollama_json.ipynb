{
 "cells": [
  {
   "cell_type": "code",
   "id": "initial_id",
   "metadata": {
    "collapsed": true,
    "ExecuteTime": {
     "end_time": "2024-06-17T20:39:10.549997Z",
     "start_time": "2024-06-17T20:39:10.546132Z"
    }
   },
   "source": [
    "from openai import OpenAI\n",
    "from pydantic import BaseModel, Field\n",
    "from typing import List\n",
    "\n",
    "import instructor"
   ],
   "outputs": [],
   "execution_count": 3
  },
  {
   "metadata": {
    "ExecuteTime": {
     "end_time": "2024-06-17T20:39:12.206291Z",
     "start_time": "2024-06-17T20:39:12.202207Z"
    }
   },
   "cell_type": "code",
   "source": [
    "class Character(BaseModel):\n",
    "    name: str\n",
    "    age: int\n",
    "    fact: List[str] = Field(..., description=\"A list of facts about the character\")"
   ],
   "id": "9dec0553d8b6e1d3",
   "outputs": [],
   "execution_count": 4
  },
  {
   "metadata": {},
   "cell_type": "markdown",
   "source": "ollama pull llama3",
   "id": "905aaa447fc98e94"
  },
  {
   "metadata": {
    "ExecuteTime": {
     "end_time": "2024-06-17T20:40:22.086149Z",
     "start_time": "2024-06-17T20:40:15.806212Z"
    }
   },
   "cell_type": "code",
   "source": [
    "# enables `response_model` in create call\n",
    "client = instructor.from_openai(\n",
    "    OpenAI(\n",
    "        base_url=\"http://localhost:11434/v1\",\n",
    "        api_key=\"ollama\",  # required, but unused\n",
    "    ),\n",
    "    mode=instructor.Mode.JSON,\n",
    ")\n",
    "\n"
   ],
   "id": "308abc57490df355",
   "outputs": [],
   "execution_count": 7
  },
  {
   "metadata": {
    "ExecuteTime": {
     "end_time": "2024-06-17T20:45:18.360327Z",
     "start_time": "2024-06-17T20:45:13.037737Z"
    }
   },
   "cell_type": "code",
   "source": [
    "resp = client.chat.completions.create(\n",
    "    model=\"llama3\",\n",
    "    messages=[\n",
    "        {\n",
    "            \"role\": \"user\",\n",
    "            \"content\": \"Tell me 10 facts about the Harry Potter\",\n",
    "        }\n",
    "    ],\n",
    "    response_model=Character,\n",
    ")\n",
    "\n",
    "print(resp.model_dump_json(indent=4))"
   ],
   "id": "a5ffb1994141df5b",
   "outputs": [
    {
     "name": "stdout",
     "output_type": "stream",
     "text": [
      "{\n",
      "    \"name\": \"Harry Potter\",\n",
      "    \"age\": 22,\n",
      "    \"fact\": [\n",
      "        \"The Hogwarts School of Witchcraft and Wizardry is based on Edinburgh University in Scotland.\",\n",
      "        \"Hagrid, the gamekeeper, was originally supposed to be an antagonist.\",\n",
      "        \"There are over 1 billion copies of Harry Potter books sold worldwide.\",\n",
      "        \"Harry Potter has been translated into over 80 languages.\",\n",
      "        \"Dumbledore's wand is made from the wood of a rare and ancient tree called 'Holly'.\"\n",
      "    ]\n",
      "}\n"
     ]
    }
   ],
   "execution_count": 11
  }
 ],
 "metadata": {
  "kernelspec": {
   "display_name": "Python 3",
   "language": "python",
   "name": "python3"
  },
  "language_info": {
   "codemirror_mode": {
    "name": "ipython",
    "version": 2
   },
   "file_extension": ".py",
   "mimetype": "text/x-python",
   "name": "python",
   "nbconvert_exporter": "python",
   "pygments_lexer": "ipython2",
   "version": "2.7.6"
  }
 },
 "nbformat": 4,
 "nbformat_minor": 5
}
